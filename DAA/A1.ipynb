{
 "cells": [
  {
   "cell_type": "code",
   "execution_count": 44,
   "id": "68412434-458b-4cdb-ab12-0694a2a44698",
   "metadata": {},
   "outputs": [
    {
     "name": "stdin",
     "output_type": "stream",
     "text": [
      "Enter the number of terms for the Fibonacci series:  5\n"
     ]
    },
    {
     "name": "stdout",
     "output_type": "stream",
     "text": [
      "Fibonacci Series:\n",
      "[0, 1, 1, 2, 3]\n"
     ]
    }
   ],
   "source": [
    "#NON RECURSIVE \n",
    "\n",
    "def fibonacci(n):\n",
    "    fib = [0, 1]\n",
    "    for i in range(2, n):\n",
    "        next_term = fib[i-1] + fib[i-2]\n",
    "        fib.append(next_term)\n",
    "    return fib\n",
    "n = int(input(\"Enter the number of terms for the Fibonacci series: \"))\n",
    "if n <= 0:\n",
    "    print(\"Please enter a positive integer.\")\n",
    "else:\n",
    "    result = fibonacci(n)\n",
    "    print(\"Fibonacci Series:\")\n",
    "    print(result)"
   ]
  },
  {
   "cell_type": "code",
   "execution_count": 42,
   "id": "852dde33-0538-4949-a2d5-7a98fd213220",
   "metadata": {},
   "outputs": [
    {
     "name": "stdin",
     "output_type": "stream",
     "text": [
      "Enter the number of terms:  5\n"
     ]
    },
    {
     "name": "stdout",
     "output_type": "stream",
     "text": [
      "Fibonacci series:\n",
      " [0, 1, 1, 2, 3]\n"
     ]
    }
   ],
   "source": [
    "#RECURSIVE\n",
    "\n",
    "def Fib(n):\n",
    "    if n <= 1:\n",
    "        return n\n",
    "    else:\n",
    "        return Fib(n-1) + Fib(n-2)\n",
    "\n",
    "aterms = int(input(\"Enter the number of terms: \"))\n",
    "\n",
    "if aterms <= 0:\n",
    "    print(\"Please enter a positive integer\")\n",
    "else:\n",
    "    fibonacci_series = [Fib(z) for z in range(aterms)]\n",
    "    print(\"Fibonacci series:\\n\" , fibonacci_series)\n"
   ]
  },
  {
   "cell_type": "code",
   "execution_count": null,
   "id": "0954549b-646b-4cd6-886f-c60425a5cb4e",
   "metadata": {},
   "outputs": [],
   "source": []
  }
 ],
 "metadata": {
  "kernelspec": {
   "display_name": "Python 3 (ipykernel)",
   "language": "python",
   "name": "python3"
  },
  "language_info": {
   "codemirror_mode": {
    "name": "ipython",
    "version": 3
   },
   "file_extension": ".py",
   "mimetype": "text/x-python",
   "name": "python",
   "nbconvert_exporter": "python",
   "pygments_lexer": "ipython3",
   "version": "3.9.12"
  }
 },
 "nbformat": 4,
 "nbformat_minor": 5
}
