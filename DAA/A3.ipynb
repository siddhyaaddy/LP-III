{
 "cells": [
  {
   "cell_type": "code",
   "execution_count": 2,
   "id": "69cdafdd-8bc7-4849-aeb7-5cfb6401c0c4",
   "metadata": {},
   "outputs": [
    {
     "name": "stdin",
     "output_type": "stream",
     "text": [
      "Enter the number of items:  3\n",
      "Enter the weight of item 1:  2\n",
      "Enter the value of item 1:  10\n",
      "Enter the weight of item 2:  1\n",
      "Enter the value of item 2:  15\n",
      "Enter the weight of item 3:  4\n",
      "Enter the value of item 3:  25\n",
      "Enter the knapsack capacity:  40\n"
     ]
    },
    {
     "name": "stdout",
     "output_type": "stream",
     "text": [
      "Total value in the knapsack: 50.0\n",
      "Selected items and their fractions:\n",
      "Weight: 1.0, Fraction: 1\n",
      "Weight: 4.0, Fraction: 1\n",
      "Weight: 2.0, Fraction: 1\n"
     ]
    }
   ],
   "source": [
    "def fractional_knapsack(items, capacity):\n",
    "    # Calculate the value-to-weight ratio for each item\n",
    "    value_per_weight = [(item[1] / item[0], item[0], item[1]) for item in items]\n",
    "    \n",
    "    # Sort the items based on their value-to-weight ratio in descending order\n",
    "    value_per_weight.sort(reverse=True)\n",
    "    \n",
    "    total_value = 0  # Initialize the total value\n",
    "    knapsack = []    # Initialize the knapsack to store selected items\n",
    "\n",
    "    for ratio, weight, value in value_per_weight:\n",
    "        if capacity == 0:\n",
    "            break\n",
    "\n",
    "        if weight <= capacity:\n",
    "            total_value += value\n",
    "            knapsack.append((weight, 1))\n",
    "            capacity -= weight\n",
    "        else:\n",
    "            fraction = capacity / weight\n",
    "            total_value += fraction * value\n",
    "            knapsack.append((weight, fraction))\n",
    "            capacity = 0\n",
    "\n",
    "    return total_value, knapsack\n",
    "\n",
    "if __name__ == \"__main__\":\n",
    "    num_items = int(input(\"Enter the number of items: \"))\n",
    "    items = []\n",
    "    for i in range(num_items):\n",
    "        weight = float(input(f\"Enter the weight of item {i + 1}: \"))\n",
    "        value = float(input(f\"Enter the value of item {i + 1}: \"))\n",
    "        items.append((weight, value))\n",
    "\n",
    "    knapsack_capacity = float(input(\"Enter the knapsack capacity: \"))\n",
    "\n",
    "    total_value, selected_items = fractional_knapsack(items, knapsack_capacity)\n",
    "\n",
    "    print(f\"Total value in the knapsack: {total_value}\")\n",
    "    print(\"Selected items and their fractions:\")\n",
    "    for weight, fraction in selected_items:\n",
    "        print(f\"Weight: {weight}, Fraction: {fraction}\")\n"
   ]
  },
  {
   "cell_type": "code",
   "execution_count": null,
   "id": "fa24f50b-7dff-459e-b9af-1102c7bfbb63",
   "metadata": {},
   "outputs": [],
   "source": []
  }
 ],
 "metadata": {
  "kernelspec": {
   "display_name": "Python 3 (ipykernel)",
   "language": "python",
   "name": "python3"
  },
  "language_info": {
   "codemirror_mode": {
    "name": "ipython",
    "version": 3
   },
   "file_extension": ".py",
   "mimetype": "text/x-python",
   "name": "python",
   "nbconvert_exporter": "python",
   "pygments_lexer": "ipython3",
   "version": "3.9.12"
  }
 },
 "nbformat": 4,
 "nbformat_minor": 5
}
