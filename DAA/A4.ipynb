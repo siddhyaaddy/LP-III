{
 "cells": [
  {
   "cell_type": "code",
   "execution_count": 4,
   "id": "5e52999c-857e-4c28-9fe7-a0ad4ef3f191",
   "metadata": {},
   "outputs": [
    {
     "name": "stdin",
     "output_type": "stream",
     "text": [
      "Enter the number of items:  3\n",
      "Enter weight and value for item 1:  3 4\n",
      "Enter weight and value for item 2:  4 5\n",
      "Enter weight and value for item 3:  4 5\n",
      "Enter the knapsack capacity:  20\n"
     ]
    },
    {
     "name": "stdout",
     "output_type": "stream",
     "text": [
      "Maximum value in the knapsack: 14\n"
     ]
    }
   ],
   "source": [
    "def knapsack_dp(capacity, weights, values, n):\n",
    "    dp = [[0 for _ in range(capacity + 1)] for _ in range(n + 1)]\n",
    "\n",
    "    for i in range(n + 1):\n",
    "        for w in range(capacity + 1):\n",
    "            if i == 0 or w == 0:\n",
    "                dp[i][w] = 0\n",
    "            elif weights[i - 1] <= w:\n",
    "                dp[i][w] = max(values[i - 1] + dp[i - 1][w - weights[i - 1]], dp[i - 1][w])\n",
    "            else:\n",
    "                dp[i][w] = dp[i - 1][w]\n",
    "\n",
    "    return dp[n][capacity]\n",
    "\n",
    "n = int(input(\"Enter the number of items: \"))\n",
    "weights = []\n",
    "values = []\n",
    "\n",
    "for i in range(n):\n",
    "    weight, value = map(int, input(f\"Enter weight and value for item {i + 1}: \").split())\n",
    "    weights.append(weight)\n",
    "    values.append(value)\n",
    "\n",
    "capacity = int(input(\"Enter the knapsack capacity: \"))\n",
    "\n",
    "max_value = knapsack_dp(capacity, weights, values, n)\n",
    "print(\"Maximum value in the knapsack:\", max_value)\n"
   ]
  },
  {
   "cell_type": "code",
   "execution_count": null,
   "id": "ba7cd69e-cb2b-42b0-ad80-304afcce80de",
   "metadata": {},
   "outputs": [],
   "source": []
  }
 ],
 "metadata": {
  "kernelspec": {
   "display_name": "Python 3 (ipykernel)",
   "language": "python",
   "name": "python3"
  },
  "language_info": {
   "codemirror_mode": {
    "name": "ipython",
    "version": 3
   },
   "file_extension": ".py",
   "mimetype": "text/x-python",
   "name": "python",
   "nbconvert_exporter": "python",
   "pygments_lexer": "ipython3",
   "version": "3.9.12"
  }
 },
 "nbformat": 4,
 "nbformat_minor": 5
}
