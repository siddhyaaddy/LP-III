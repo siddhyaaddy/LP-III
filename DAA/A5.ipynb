{
 "cells": [
  {
   "cell_type": "code",
   "execution_count": 2,
   "id": "4b67a7ee-f993-4e4a-9963-8617eac8a07f",
   "metadata": {},
   "outputs": [
    {
     "name": "stdin",
     "output_type": "stream",
     "text": [
      "Enter the size of the chessboard (n):  4\n",
      "Enter the row for the first Queen (0-based):  3\n"
     ]
    },
    {
     "name": "stdout",
     "output_type": "stream",
     "text": [
      "Solution found:\n",
      ". . . .\n",
      "Q . . .\n",
      ". . . Q\n",
      "Q Q . .\n"
     ]
    }
   ],
   "source": [
    "def isSafe(mat, r, c):\n",
    "    for i in range(r):\n",
    "        if mat[i][c] == 'Q':\n",
    "            return False\n",
    "\n",
    "    (i, j) = (r, c)\n",
    "    while i >= 0 and j >= 0:\n",
    "        if mat[i][j] == 'Q':\n",
    "            return False\n",
    "        i = i - 1\n",
    "        j = j - 1\n",
    "\n",
    "    (i, j) = (r, c)\n",
    "    while i >= 0 and j < len(mat):\n",
    "        if mat[i][j] == 'Q':\n",
    "            return False\n",
    "        i = i - 1\n",
    "        j = j + 1\n",
    "\n",
    "    return True\n",
    "\n",
    "def printSolution(mat):\n",
    "    for r in mat:\n",
    "        print(' '.join(r))\n",
    "    print()\n",
    "\n",
    "def nQueen(mat, r):\n",
    "    if r == len(mat):\n",
    "        printSolution(mat)\n",
    "        return\n",
    "\n",
    "    for i in range(len(mat)):\n",
    "        if isSafe(mat, r, i):\n",
    "            mat[r][i] = 'Q'\n",
    "            nQueen(mat, r + 1)\n",
    "            mat[r][i] = '–'\n",
    "\n",
    "if __name__ == '__main__':\n",
    "    try:\n",
    "        N = int(input(\"Enter the size of the chessboard (N): \"))\n",
    "        if N < 1:\n",
    "            print(\"N should be a positive integer.\")\n",
    "        else:\n",
    "            mat = [['–' for x in range(N)] for y in range(N)]\n",
    "            nQueen(mat, 0)\n",
    "    except ValueError:\n",
    "        print(\"Invalid input. Please enter a positive integer for N.\")\n"
   ]
  },
  {
   "cell_type": "code",
   "execution_count": null,
   "id": "7ca688ea-1f59-4f9e-8818-047dcb616311",
   "metadata": {},
   "outputs": [],
   "source": []
  }
 ],
 "metadata": {
  "kernelspec": {
   "display_name": "Python 3 (ipykernel)",
   "language": "python",
   "name": "python3"
  },
  "language_info": {
   "codemirror_mode": {
    "name": "ipython",
    "version": 3
   },
   "file_extension": ".py",
   "mimetype": "text/x-python",
   "name": "python",
   "nbconvert_exporter": "python",
   "pygments_lexer": "ipython3",
   "version": "3.9.12"
  }
 },
 "nbformat": 4,
 "nbformat_minor": 5
}
